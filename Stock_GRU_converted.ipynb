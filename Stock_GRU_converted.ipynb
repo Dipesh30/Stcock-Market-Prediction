{
  "nbformat": 4,
  "nbformat_minor": 0,
  "metadata": {
    "colab": {
      "name": "Stock_GRU_converted",
      "provenance": [],
      "collapsed_sections": []
    },
    "kernelspec": {
      "name": "python3",
      "display_name": "Python 3"
    },
    "accelerator": "GPU"
  },
  "cells": [
    {
      "cell_type": "code",
      "metadata": {
        "id": "dTLyOjlZ7yDM"
      },
      "source": [
        "import pandas_datareader as web\n",
        "import numpy as np\n",
        "import pandas as pd\n",
        "import math\n",
        "import sklearn\n",
        "import sklearn.preprocessing\n",
        "import datetime\n",
        "import os\n",
        "import matplotlib.pyplot as plt\n",
        "import tensorflow.compat.v1 as tf\n",
        "from tensorflow.python.framework import ops\n",
        "tf.compat.v1.disable_eager_execution()"
      ],
      "execution_count": null,
      "outputs": []
    },
    {
      "cell_type": "code",
      "metadata": {
        "colab": {
          "base_uri": "https://localhost:8080/",
          "height": 431
        },
        "id": "vVypNNdz766P",
        "outputId": "3c2be9e0-f4c3-44c8-acd9-282d4b38d426"
      },
      "source": [
        "df=web.DataReader('GOOG',  data_source='yahoo', start='2004-08-19', end='2020-07-01')\n",
        "df"
      ],
      "execution_count": null,
      "outputs": [
        {
          "output_type": "execute_result",
          "data": {
            "text/html": [
              "<div>\n",
              "<style scoped>\n",
              "    .dataframe tbody tr th:only-of-type {\n",
              "        vertical-align: middle;\n",
              "    }\n",
              "\n",
              "    .dataframe tbody tr th {\n",
              "        vertical-align: top;\n",
              "    }\n",
              "\n",
              "    .dataframe thead th {\n",
              "        text-align: right;\n",
              "    }\n",
              "</style>\n",
              "<table border=\"1\" class=\"dataframe\">\n",
              "  <thead>\n",
              "    <tr style=\"text-align: right;\">\n",
              "      <th></th>\n",
              "      <th>High</th>\n",
              "      <th>Low</th>\n",
              "      <th>Open</th>\n",
              "      <th>Close</th>\n",
              "      <th>Volume</th>\n",
              "      <th>Adj Close</th>\n",
              "    </tr>\n",
              "    <tr>\n",
              "      <th>Date</th>\n",
              "      <th></th>\n",
              "      <th></th>\n",
              "      <th></th>\n",
              "      <th></th>\n",
              "      <th></th>\n",
              "      <th></th>\n",
              "    </tr>\n",
              "  </thead>\n",
              "  <tbody>\n",
              "    <tr>\n",
              "      <th>2004-08-19</th>\n",
              "      <td>51.835709</td>\n",
              "      <td>47.800831</td>\n",
              "      <td>49.813286</td>\n",
              "      <td>49.982655</td>\n",
              "      <td>44871300.0</td>\n",
              "      <td>49.982655</td>\n",
              "    </tr>\n",
              "    <tr>\n",
              "      <th>2004-08-20</th>\n",
              "      <td>54.336334</td>\n",
              "      <td>50.062355</td>\n",
              "      <td>50.316402</td>\n",
              "      <td>53.952770</td>\n",
              "      <td>22942800.0</td>\n",
              "      <td>53.952770</td>\n",
              "    </tr>\n",
              "    <tr>\n",
              "      <th>2004-08-23</th>\n",
              "      <td>56.528118</td>\n",
              "      <td>54.321388</td>\n",
              "      <td>55.168217</td>\n",
              "      <td>54.495735</td>\n",
              "      <td>18342800.0</td>\n",
              "      <td>54.495735</td>\n",
              "    </tr>\n",
              "    <tr>\n",
              "      <th>2004-08-24</th>\n",
              "      <td>55.591629</td>\n",
              "      <td>51.591621</td>\n",
              "      <td>55.412300</td>\n",
              "      <td>52.239193</td>\n",
              "      <td>15319700.0</td>\n",
              "      <td>52.239193</td>\n",
              "    </tr>\n",
              "    <tr>\n",
              "      <th>2004-08-25</th>\n",
              "      <td>53.798351</td>\n",
              "      <td>51.746044</td>\n",
              "      <td>52.284027</td>\n",
              "      <td>52.802086</td>\n",
              "      <td>9232100.0</td>\n",
              "      <td>52.802086</td>\n",
              "    </tr>\n",
              "    <tr>\n",
              "      <th>...</th>\n",
              "      <td>...</td>\n",
              "      <td>...</td>\n",
              "      <td>...</td>\n",
              "      <td>...</td>\n",
              "      <td>...</td>\n",
              "      <td>...</td>\n",
              "    </tr>\n",
              "    <tr>\n",
              "      <th>2020-06-25</th>\n",
              "      <td>1442.900024</td>\n",
              "      <td>1420.000000</td>\n",
              "      <td>1429.900024</td>\n",
              "      <td>1441.329956</td>\n",
              "      <td>1230500.0</td>\n",
              "      <td>1441.329956</td>\n",
              "    </tr>\n",
              "    <tr>\n",
              "      <th>2020-06-26</th>\n",
              "      <td>1433.449951</td>\n",
              "      <td>1351.989990</td>\n",
              "      <td>1431.390015</td>\n",
              "      <td>1359.900024</td>\n",
              "      <td>4267700.0</td>\n",
              "      <td>1359.900024</td>\n",
              "    </tr>\n",
              "    <tr>\n",
              "      <th>2020-06-29</th>\n",
              "      <td>1395.599976</td>\n",
              "      <td>1347.010010</td>\n",
              "      <td>1358.180054</td>\n",
              "      <td>1394.969971</td>\n",
              "      <td>1810200.0</td>\n",
              "      <td>1394.969971</td>\n",
              "    </tr>\n",
              "    <tr>\n",
              "      <th>2020-06-30</th>\n",
              "      <td>1418.650024</td>\n",
              "      <td>1383.959961</td>\n",
              "      <td>1390.439941</td>\n",
              "      <td>1413.609985</td>\n",
              "      <td>2041600.0</td>\n",
              "      <td>1413.609985</td>\n",
              "    </tr>\n",
              "    <tr>\n",
              "      <th>2020-07-01</th>\n",
              "      <td>1443.000000</td>\n",
              "      <td>1409.819946</td>\n",
              "      <td>1411.099976</td>\n",
              "      <td>1438.040039</td>\n",
              "      <td>1775200.0</td>\n",
              "      <td>1438.040039</td>\n",
              "    </tr>\n",
              "  </tbody>\n",
              "</table>\n",
              "<p>3995 rows × 6 columns</p>\n",
              "</div>"
            ],
            "text/plain": [
              "                   High          Low  ...      Volume    Adj Close\n",
              "Date                                  ...                         \n",
              "2004-08-19    51.835709    47.800831  ...  44871300.0    49.982655\n",
              "2004-08-20    54.336334    50.062355  ...  22942800.0    53.952770\n",
              "2004-08-23    56.528118    54.321388  ...  18342800.0    54.495735\n",
              "2004-08-24    55.591629    51.591621  ...  15319700.0    52.239193\n",
              "2004-08-25    53.798351    51.746044  ...   9232100.0    52.802086\n",
              "...                 ...          ...  ...         ...          ...\n",
              "2020-06-25  1442.900024  1420.000000  ...   1230500.0  1441.329956\n",
              "2020-06-26  1433.449951  1351.989990  ...   4267700.0  1359.900024\n",
              "2020-06-29  1395.599976  1347.010010  ...   1810200.0  1394.969971\n",
              "2020-06-30  1418.650024  1383.959961  ...   2041600.0  1413.609985\n",
              "2020-07-01  1443.000000  1409.819946  ...   1775200.0  1438.040039\n",
              "\n",
              "[3995 rows x 6 columns]"
            ]
          },
          "metadata": {
            "tags": []
          },
          "execution_count": 3
        }
      ]
    },
    {
      "cell_type": "code",
      "metadata": {
        "colab": {
          "base_uri": "https://localhost:8080/",
          "height": 431
        },
        "id": "ZxSGr0qv8L9S",
        "outputId": "86eca4ec-d1f2-4ef2-c4e9-2cc7ee3d3656"
      },
      "source": [
        "df_stock = df.copy()\n",
        "df_stock = df_stock[['Open', 'High', 'Low', 'Close']]\n",
        "df_stock"
      ],
      "execution_count": null,
      "outputs": [
        {
          "output_type": "execute_result",
          "data": {
            "text/html": [
              "<div>\n",
              "<style scoped>\n",
              "    .dataframe tbody tr th:only-of-type {\n",
              "        vertical-align: middle;\n",
              "    }\n",
              "\n",
              "    .dataframe tbody tr th {\n",
              "        vertical-align: top;\n",
              "    }\n",
              "\n",
              "    .dataframe thead th {\n",
              "        text-align: right;\n",
              "    }\n",
              "</style>\n",
              "<table border=\"1\" class=\"dataframe\">\n",
              "  <thead>\n",
              "    <tr style=\"text-align: right;\">\n",
              "      <th></th>\n",
              "      <th>Open</th>\n",
              "      <th>High</th>\n",
              "      <th>Low</th>\n",
              "      <th>Close</th>\n",
              "    </tr>\n",
              "    <tr>\n",
              "      <th>Date</th>\n",
              "      <th></th>\n",
              "      <th></th>\n",
              "      <th></th>\n",
              "      <th></th>\n",
              "    </tr>\n",
              "  </thead>\n",
              "  <tbody>\n",
              "    <tr>\n",
              "      <th>2004-08-19</th>\n",
              "      <td>49.813286</td>\n",
              "      <td>51.835709</td>\n",
              "      <td>47.800831</td>\n",
              "      <td>49.982655</td>\n",
              "    </tr>\n",
              "    <tr>\n",
              "      <th>2004-08-20</th>\n",
              "      <td>50.316402</td>\n",
              "      <td>54.336334</td>\n",
              "      <td>50.062355</td>\n",
              "      <td>53.952770</td>\n",
              "    </tr>\n",
              "    <tr>\n",
              "      <th>2004-08-23</th>\n",
              "      <td>55.168217</td>\n",
              "      <td>56.528118</td>\n",
              "      <td>54.321388</td>\n",
              "      <td>54.495735</td>\n",
              "    </tr>\n",
              "    <tr>\n",
              "      <th>2004-08-24</th>\n",
              "      <td>55.412300</td>\n",
              "      <td>55.591629</td>\n",
              "      <td>51.591621</td>\n",
              "      <td>52.239193</td>\n",
              "    </tr>\n",
              "    <tr>\n",
              "      <th>2004-08-25</th>\n",
              "      <td>52.284027</td>\n",
              "      <td>53.798351</td>\n",
              "      <td>51.746044</td>\n",
              "      <td>52.802086</td>\n",
              "    </tr>\n",
              "    <tr>\n",
              "      <th>...</th>\n",
              "      <td>...</td>\n",
              "      <td>...</td>\n",
              "      <td>...</td>\n",
              "      <td>...</td>\n",
              "    </tr>\n",
              "    <tr>\n",
              "      <th>2020-06-25</th>\n",
              "      <td>1429.900024</td>\n",
              "      <td>1442.900024</td>\n",
              "      <td>1420.000000</td>\n",
              "      <td>1441.329956</td>\n",
              "    </tr>\n",
              "    <tr>\n",
              "      <th>2020-06-26</th>\n",
              "      <td>1431.390015</td>\n",
              "      <td>1433.449951</td>\n",
              "      <td>1351.989990</td>\n",
              "      <td>1359.900024</td>\n",
              "    </tr>\n",
              "    <tr>\n",
              "      <th>2020-06-29</th>\n",
              "      <td>1358.180054</td>\n",
              "      <td>1395.599976</td>\n",
              "      <td>1347.010010</td>\n",
              "      <td>1394.969971</td>\n",
              "    </tr>\n",
              "    <tr>\n",
              "      <th>2020-06-30</th>\n",
              "      <td>1390.439941</td>\n",
              "      <td>1418.650024</td>\n",
              "      <td>1383.959961</td>\n",
              "      <td>1413.609985</td>\n",
              "    </tr>\n",
              "    <tr>\n",
              "      <th>2020-07-01</th>\n",
              "      <td>1411.099976</td>\n",
              "      <td>1443.000000</td>\n",
              "      <td>1409.819946</td>\n",
              "      <td>1438.040039</td>\n",
              "    </tr>\n",
              "  </tbody>\n",
              "</table>\n",
              "<p>3995 rows × 4 columns</p>\n",
              "</div>"
            ],
            "text/plain": [
              "                   Open         High          Low        Close\n",
              "Date                                                          \n",
              "2004-08-19    49.813286    51.835709    47.800831    49.982655\n",
              "2004-08-20    50.316402    54.336334    50.062355    53.952770\n",
              "2004-08-23    55.168217    56.528118    54.321388    54.495735\n",
              "2004-08-24    55.412300    55.591629    51.591621    52.239193\n",
              "2004-08-25    52.284027    53.798351    51.746044    52.802086\n",
              "...                 ...          ...          ...          ...\n",
              "2020-06-25  1429.900024  1442.900024  1420.000000  1441.329956\n",
              "2020-06-26  1431.390015  1433.449951  1351.989990  1359.900024\n",
              "2020-06-29  1358.180054  1395.599976  1347.010010  1394.969971\n",
              "2020-06-30  1390.439941  1418.650024  1383.959961  1413.609985\n",
              "2020-07-01  1411.099976  1443.000000  1409.819946  1438.040039\n",
              "\n",
              "[3995 rows x 4 columns]"
            ]
          },
          "metadata": {
            "tags": []
          },
          "execution_count": 6
        }
      ]
    },
    {
      "cell_type": "code",
      "metadata": {
        "id": "tC6u2V0H8w8m"
      },
      "source": [
        "# data scaling (normalizing)\n",
        "def normalize_data(df):\n",
        "    min_max_scaler = sklearn.preprocessing.MinMaxScaler()\n",
        "    df['Open'] = min_max_scaler.fit_transform(df.Open.values.reshape(-1,1))\n",
        "    df['High'] = min_max_scaler.fit_transform(df.High.values.reshape(-1,1))\n",
        "    df['Low'] = min_max_scaler.fit_transform(df.Low.values.reshape(-1,1))\n",
        "    df['Close'] = min_max_scaler.fit_transform(df['Close'].values.reshape(-1,1))\n",
        "    return df\n",
        "df_stock_norm = df_stock.copy()\n",
        "df_stock_norm = normalize_data(df_stock_norm)"
      ],
      "execution_count": null,
      "outputs": []
    },
    {
      "cell_type": "code",
      "metadata": {
        "id": "svCJUI3N85Dt"
      },
      "source": [
        "# Splitting the dataset into Train, Valid & test data\n",
        "valid_set_size_percentage = 10\n",
        "test_set_size_percentage = 10\n",
        "seq_len = 20 # taken sequence length as 20\n",
        "def load_data(stock, seq_len):\n",
        "    data_raw = np.asmatrix(stock)\n",
        "    data = []\n",
        "    for index in range(len(data_raw) - seq_len):\n",
        "        data.append(data_raw[index: index + seq_len])\n",
        "    data = np.array(data);\n",
        "    valid_set_size = int(np.round(valid_set_size_percentage/100*data.shape[0]));\n",
        "    test_set_size = int(np.round(test_set_size_percentage/100*data.shape[0]));\n",
        "    train_set_size = data.shape[0] - (valid_set_size + test_set_size);\n",
        "    x_train = data[:train_set_size,:-1,:]\n",
        "    y_train = data[:train_set_size,-1,:]\n",
        "    x_valid = data[train_set_size:train_set_size+valid_set_size,:-1,:]\n",
        "    y_valid = data[train_set_size:train_set_size+valid_set_size,-1,:]\n",
        "    x_test = data[train_set_size+valid_set_size:,:-1,:]\n",
        "    y_test = data[train_set_size+valid_set_size:,-1,:]\n",
        "    return [x_train, y_train, x_valid, y_valid, x_test, y_test]"
      ],
      "execution_count": null,
      "outputs": []
    },
    {
      "cell_type": "code",
      "metadata": {
        "colab": {
          "base_uri": "https://localhost:8080/"
        },
        "id": "jjNo9_1n8-oN",
        "outputId": "0364755b-e041-4228-f935-ac642e6fd273"
      },
      "source": [
        "x_train, y_train, x_valid, y_valid, x_test, y_test = load_data(df_stock_norm, seq_len)\n",
        "print('x_train.shape = ',x_train.shape)\n",
        "print('y_train.shape = ', y_train.shape)\n",
        "print('x_valid.shape = ',x_valid.shape)\n",
        "print('y_valid.shape = ', y_valid.shape)\n",
        "print('x_test.shape = ', x_test.shape)\n",
        "print('y_test.shape = ',y_test.shape)"
      ],
      "execution_count": null,
      "outputs": [
        {
          "output_type": "stream",
          "text": [
            "x_train.shape =  (3179, 19, 4)\n",
            "y_train.shape =  (3179, 4)\n",
            "x_valid.shape =  (398, 19, 4)\n",
            "y_valid.shape =  (398, 4)\n",
            "x_test.shape =  (398, 19, 4)\n",
            "y_test.shape =  (398, 4)\n"
          ],
          "name": "stdout"
        }
      ]
    },
    {
      "cell_type": "code",
      "metadata": {
        "colab": {
          "base_uri": "https://localhost:8080/"
        },
        "id": "vUkpFrKY9LAt",
        "outputId": "4392e449-fecd-4a85-da5c-bf0d7794f144"
      },
      "source": [
        "\"\"\"Building the Model\"\"\"\n",
        "\n",
        "\n",
        "# parameters & Placeholders\n",
        "n_steps = seq_len-1\n",
        "n_inputs = 4\n",
        "n_neurons = 200\n",
        "n_outputs = 4\n",
        "n_layers = 2\n",
        "learning_rate = 0.001\n",
        "batch_size = 50\n",
        "n_epochs = 100\n",
        "train_set_size = x_train.shape[0]\n",
        "test_set_size = x_test.shape[0]\n",
        "ops.reset_default_graph()\n",
        "X = tf.compat.v1.placeholder(tf.float32, [None, n_steps, n_inputs])\n",
        "y = tf.compat.v1.placeholder(tf.float32, [None, n_outputs])\n",
        "\n",
        "# function to get the next batch\n",
        "index_in_epoch = 0;\n",
        "perm_array  = np.arange(x_train.shape[0])\n",
        "np.random.shuffle(perm_array)\n",
        "\n",
        "def get_next_batch(batch_size):\n",
        "    global index_in_epoch, x_train, perm_array\n",
        "    start = index_in_epoch\n",
        "    index_in_epoch += batch_size\n",
        "    if index_in_epoch > x_train.shape[0]:\n",
        "        np.random.shuffle(perm_array) # shuffle permutation array\n",
        "        start = 0 # start next epoch\n",
        "        index_in_epoch = batch_size\n",
        "    end = index_in_epoch\n",
        "    return x_train[perm_array[start:end]], y_train[perm_array[start:end]]\n",
        "\n",
        "#RNN\n",
        "layers = [tf.compat.v1.nn.rnn_cell.BasicRNNCell(num_units=n_neurons, activation=tf.nn.elu)\n",
        "          for layer in range(n_layers)]\n",
        "# LSTM\n",
        "#layers = [tf.contrib.rnn.BasicLSTMCell(num_units=n_neurons, activation=tf.nn.elu)\n",
        "#          for layer in range(n_layers)]\n",
        "\n",
        "#LSTM with peephole connections\n",
        "#layers = [tf.contrib.rnn.LSTMCell(num_units=n_neurons,\n",
        "#                                 activation=tf.nn.leaky_relu, use_peepholes = True)\n",
        "#          for layer in range(n_layers)]\n",
        "\n",
        "#GRU\n",
        "layers = [tf.compat.v1.nn.rnn_cell.GRUCell(num_units=n_neurons, activation=tf.nn.leaky_relu)\n",
        "          for layer in range(n_layers)]\n",
        "\n",
        "multi_layer_cell = tf.compat.v1.nn.rnn_cell.MultiRNNCell(layers)\n",
        "rnn_outputs, states = tf.compat.v1.nn.dynamic_rnn(multi_layer_cell, X, dtype=tf.float32)\n",
        "stacked_rnn_outputs = tf.reshape(rnn_outputs, [-1, n_neurons])\n",
        "stacked_outputs = tf.compat.v1.layers.dense(stacked_rnn_outputs, n_outputs)\n",
        "outputs = tf.reshape(stacked_outputs, [-1, n_steps, n_outputs])\n",
        "outputs = outputs[:,n_steps-1,:] # keep only last output of sequence\n",
        "\n",
        "# Cost function\n",
        "loss = tf.reduce_mean(input_tensor=tf.square(outputs - y))\n",
        "\n",
        "#optimizer\n",
        "optimizer = tf.compat.v1.train.AdamOptimizer(learning_rate=learning_rate)\n",
        "training_op = optimizer.minimize(loss)"
      ],
      "execution_count": null,
      "outputs": [
        {
          "output_type": "stream",
          "text": [
            "WARNING:tensorflow:`tf.nn.rnn_cell.MultiRNNCell` is deprecated. This class is equivalent as `tf.keras.layers.StackedRNNCells`, and will be replaced by that in Tensorflow 2.0.\n",
            "WARNING:tensorflow:From <ipython-input-10-c7c1fe67ab4e>:52: dynamic_rnn (from tensorflow.python.ops.rnn) is deprecated and will be removed in a future version.\n",
            "Instructions for updating:\n",
            "Please use `keras.layers.RNN(cell)`, which is equivalent to this API\n",
            "WARNING:tensorflow:From /usr/local/lib/python3.6/dist-packages/tensorflow/python/keras/layers/legacy_rnn/rnn_cell_impl.py:577: calling Constant.__init__ (from tensorflow.python.ops.init_ops) with dtype is deprecated and will be removed in a future version.\n",
            "Instructions for updating:\n",
            "Call initializer instance with the dtype argument instead of passing it to the constructor\n",
            "WARNING:tensorflow:From /usr/local/lib/python3.6/dist-packages/tensorflow/python/keras/layers/legacy_rnn/rnn_cell_impl.py:587: calling Zeros.__init__ (from tensorflow.python.ops.init_ops) with dtype is deprecated and will be removed in a future version.\n",
            "Instructions for updating:\n",
            "Call initializer instance with the dtype argument instead of passing it to the constructor\n"
          ],
          "name": "stdout"
        },
        {
          "output_type": "stream",
          "text": [
            "/usr/local/lib/python3.6/dist-packages/tensorflow/python/keras/layers/legacy_rnn/rnn_cell_impl.py:421: UserWarning: `tf.nn.rnn_cell.BasicRNNCell` is deprecated and will be removed in a future version. This class is equivalent as `tf.keras.layers.SimpleRNNCell`, and will be replaced by that in Tensorflow 2.0.\n",
            "  warnings.warn(\"`tf.nn.rnn_cell.BasicRNNCell` is deprecated and will be \"\n",
            "/usr/local/lib/python3.6/dist-packages/tensorflow/python/keras/layers/legacy_rnn/rnn_cell_impl.py:529: UserWarning: `tf.nn.rnn_cell.GRUCell` is deprecated and will be removed in a future version. This class is equivalent as `tf.keras.layers.GRUCell`, and will be replaced by that in Tensorflow 2.0.\n",
            "  warnings.warn(\"`tf.nn.rnn_cell.GRUCell` is deprecated and will be removed \"\n",
            "/usr/local/lib/python3.6/dist-packages/tensorflow/python/keras/engine/base_layer_v1.py:1727: UserWarning: `layer.add_variable` is deprecated and will be removed in a future version. Please use `layer.add_weight` method instead.\n",
            "  warnings.warn('`layer.add_variable` is deprecated and '\n",
            "/usr/local/lib/python3.6/dist-packages/tensorflow/python/keras/legacy_tf_layers/core.py:171: UserWarning: `tf.layers.dense` is deprecated and will be removed in a future version. Please use `tf.keras.layers.Dense` instead.\n",
            "  warnings.warn('`tf.layers.dense` is deprecated and '\n",
            "/usr/local/lib/python3.6/dist-packages/tensorflow/python/keras/engine/base_layer_v1.py:1719: UserWarning: `layer.apply` is deprecated and will be removed in a future version. Please use `layer.__call__` method instead.\n",
            "  warnings.warn('`layer.apply` is deprecated and '\n"
          ],
          "name": "stderr"
        }
      ]
    },
    {
      "cell_type": "code",
      "metadata": {
        "colab": {
          "base_uri": "https://localhost:8080/"
        },
        "id": "VTAI105XPSL6",
        "outputId": "1427e799-b30c-4f2b-f07a-c86a80008556"
      },
      "source": [
        "# Fitting the model\n",
        "with tf.compat.v1.Session() as sess:\n",
        "    sess.run(tf.compat.v1.global_variables_initializer())\n",
        "    for iteration in range(int(n_epochs*train_set_size/batch_size)):\n",
        "        x_batch, y_batch = get_next_batch(batch_size) # fetch the next training batch\n",
        "        sess.run(training_op, feed_dict={X: x_batch, y: y_batch})\n",
        "        if iteration % int(5*train_set_size/batch_size) == 0:\n",
        "            mse_train = loss.eval(feed_dict={X: x_train, y: y_train})\n",
        "            mse_valid = loss.eval(feed_dict={X: x_valid, y: y_valid})\n",
        "            print('%.2f epochs: MSE train/valid = %.6f/%.6f'%(iteration*batch_size/train_set_size, mse_train, mse_valid))\n",
        "    # Predictions\n",
        "    y_test_pred = sess.run(outputs, feed_dict={X: x_test})"
      ],
      "execution_count": null,
      "outputs": [
        {
          "output_type": "stream",
          "text": [
            "0.00 epochs: MSE train/valid = 0.038879/0.300894\n",
            "4.99 epochs: MSE train/valid = 0.000083/0.000506\n",
            "9.97 epochs: MSE train/valid = 0.000059/0.000320\n",
            "14.96 epochs: MSE train/valid = 0.000044/0.000216\n",
            "19.94 epochs: MSE train/valid = 0.000035/0.000152\n",
            "24.93 epochs: MSE train/valid = 0.000025/0.000108\n",
            "29.92 epochs: MSE train/valid = 0.000028/0.000133\n",
            "34.90 epochs: MSE train/valid = 0.000018/0.000100\n",
            "39.89 epochs: MSE train/valid = 0.000018/0.000112\n",
            "44.87 epochs: MSE train/valid = 0.000016/0.000099\n",
            "49.86 epochs: MSE train/valid = 0.000017/0.000102\n",
            "54.84 epochs: MSE train/valid = 0.000021/0.000121\n",
            "59.83 epochs: MSE train/valid = 0.000017/0.000089\n",
            "64.82 epochs: MSE train/valid = 0.000015/0.000081\n",
            "69.80 epochs: MSE train/valid = 0.000016/0.000089\n",
            "74.79 epochs: MSE train/valid = 0.000027/0.000149\n",
            "79.77 epochs: MSE train/valid = 0.000034/0.000175\n",
            "84.76 epochs: MSE train/valid = 0.000015/0.000083\n",
            "89.75 epochs: MSE train/valid = 0.000015/0.000083\n",
            "94.73 epochs: MSE train/valid = 0.000015/0.000087\n",
            "99.72 epochs: MSE train/valid = 0.000015/0.000104\n"
          ],
          "name": "stdout"
        }
      ]
    },
    {
      "cell_type": "code",
      "metadata": {
        "id": "wEQZL5WfXFW5",
        "colab": {
          "base_uri": "https://localhost:8080/"
        },
        "outputId": "762d8ab3-8d7a-409c-95ca-b8bb369fb986"
      },
      "source": [
        "#checking prediction output nos\n",
        "y_test_pred.shape"
      ],
      "execution_count": null,
      "outputs": [
        {
          "output_type": "execute_result",
          "data": {
            "text/plain": [
              "(398, 4)"
            ]
          },
          "metadata": {
            "tags": []
          },
          "execution_count": 12
        }
      ]
    },
    {
      "cell_type": "code",
      "metadata": {
        "id": "V37NFXyXXI2l",
        "colab": {
          "base_uri": "https://localhost:8080/",
          "height": 320
        },
        "outputId": "123cfef7-f26e-4e14-d7a5-b990d246b1ad"
      },
      "source": [
        "# ploting the graph\n",
        "comp = pd.DataFrame({'Column1':y_test[:,3],'Column2':y_test_pred[:,3]})\n",
        "plt.figure(figsize=(10,5))\n",
        "plt.plot(comp['Column1'], color='red', label='Target')\n",
        "plt.plot(comp['Column2'], color='yellow', label='Prediction')\n",
        "plt.legend()\n",
        "plt.show()"
      ],
      "execution_count": null,
      "outputs": [
        {
          "output_type": "display_data",
          "data": {
            "image/png": "[encoded data removed]",
            "text/plain": [
              "<Figure size 720x360 with 1 Axes>"
            ]
          },
          "metadata": {
            "tags": [],
            "needs_background": "light"
          }
        }
      ]
    },
    {
      "cell_type": "code",
      "metadata": {
        "id": "yO0wDVWmhTmX"
      },
      "source": [
        ""
      ],
      "execution_count": null,
      "outputs": []
    }
  ]
}